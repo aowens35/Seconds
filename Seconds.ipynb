{
 "cells": [
  {
   "cell_type": "code",
   "execution_count": null,
   "metadata": {},
   "outputs": [],
   "source": [
    "sec = 60\n",
    "hour = sec * 60\n",
    "print(\"Number of seconds in a hour: \", hour)\n",
    "\n",
    "sec_per_hour = hour\n",
    "\n",
    "day = sec_per_hour * 24\n",
    "print(\"Number of seconds in a day: \", day)\n",
    "\n",
    "sec_per_day = day\n",
    "\n",
    "print(sec_per_day / sec_per_hour)\n",
    "print(sec_per_day // sec_per_hour)"
   ]
  }
 ],
 "metadata": {
  "language_info": {
   "name": "python"
  },
  "orig_nbformat": 4
 },
 "nbformat": 4,
 "nbformat_minor": 2
}
